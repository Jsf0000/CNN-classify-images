{
 "cells": [
  {
   "cell_type": "markdown",
   "metadata": {},
   "source": [
    "# Libraries"
   ]
  },
  {
   "cell_type": "code",
   "execution_count": 1,
   "metadata": {},
   "outputs": [],
   "source": [
    "from PIL import Image\n",
    "import numpy as np\n",
    "import os\n",
    "from random import shuffle\n",
    "import matplotlib.pyplot as plt\n",
    "from skimage import data\n",
    "from skimage.filters import threshold_otsu"
   ]
  },
  {
   "cell_type": "markdown",
   "metadata": {},
   "source": [
    "# Applying otsu segmentation and normalize the image "
   ]
  },
  {
   "cell_type": "code",
   "execution_count": 2,
   "metadata": {},
   "outputs": [],
   "source": [
    "def normalizeImage(imgdir,sizeRows,sizeColumns):\n",
    "    img = Image.open(imgdir)\n",
    "    img = img.resize((sizeRows,sizeColumns),Image.ANTIALIAS)\n",
    "    img  = np.asarray(img.convert('L'))\n",
    "    val = threshold_otsu(np.array(img))\n",
    "    otsuApplied = np.array(img)>val\n",
    "    return otsuApplied.astype(int)"
   ]
  },
  {
   "cell_type": "code",
   "execution_count": 3,
   "metadata": {},
   "outputs": [],
   "source": [
    "DIR1 = \"/Users/jasonsolano/Documents/TrainingImages/Sedan/\"\n",
    "DIR2 = \"/Users/jasonsolano/Documents/TrainingImages/buses/\"\n",
    "DIR3 = \"/Users/jasonsolano/Documents/TrainingImages/motorcycles/\"\n",
    "paths = [DIR1,DIR2,DIR3]"
   ]
  },
  {
   "cell_type": "code",
   "execution_count": 4,
   "metadata": {},
   "outputs": [],
   "source": [
    "# # Want to know how we should format the height x width image data dimensions\n",
    "# # for inputting to a keras model\n",
    "# def get_size_statistics():\n",
    "#     heights = []\n",
    "#     widths = []\n",
    "#     img_count = 0\n",
    "#     for tempPath in paths:\n",
    "#         for img in os.listdir(tempPath):\n",
    "#             path = os.path.join(tempPath, img)\n",
    "#             if \"DS_Store\" not in path:\n",
    "#                 data = np.array(Image.open(path))\n",
    "#                 heights.append(data.shape[0])\n",
    "#                 widths.append(data.shape[1])\n",
    "#                 img_count += 1\n",
    "#     avg_height = sum(heights) / len(heights)\n",
    "#     avg_width = sum(widths) / len(widths)\n",
    "#     print(\"Average Height: \" + str(avg_height))\n",
    "#     print(\"Max Height: \" + str(max(heights)))\n",
    "#     print(\"Min Height: \" + str(min(heights)))\n",
    "#     print('\\n')\n",
    "#     print(\"Average Width: \" + str(avg_width))\n",
    "#     print(\"Max Width: \" + str(max(widths)))\n",
    "#     print(\"Min Width: \" + str(min(widths)))\n",
    "\n",
    "# get_size_statistics()"
   ]
  },
  {
   "cell_type": "code",
   "execution_count": 5,
   "metadata": {},
   "outputs": [],
   "source": [
    "#build vector for labels\n",
    "def label_img(name):\n",
    "    if \"sedan\" in name: #label for vehicules (specifically sedan)\n",
    "        return np.array([1,0,0])\n",
    "    elif \"bus\" in name: #Label for buses\n",
    "        return np.array([0,1,0])\n",
    "    elif \"moto\" in name: #Label for motorcycles\n",
    "        return np.array([0,0,1])\n"
   ]
  },
  {
   "cell_type": "code",
   "execution_count": 6,
   "metadata": {},
   "outputs": [],
   "source": [
    "IMG_SIZE = 300\n",
    "\n",
    "def load_training_data():\n",
    "    train_data = [] \n",
    "    for tempPath in paths:\n",
    "        for img in os.listdir(tempPath):\n",
    "            label = label_img(img)  # read the images and assigned the label\n",
    "            path = os.path.join(tempPath, img)\n",
    "            if \"DS_Store\" not in path: #validate for Mac Os users\n",
    "                train_data.append([normalizeImage(path,IMG_SIZE,IMG_SIZE), label]) #normaliza data and \n",
    "    shuffle(train_data)\n",
    "    return train_data"
   ]
  },
  {
   "cell_type": "code",
   "execution_count": 7,
   "metadata": {},
   "outputs": [],
   "source": [
    "train_data = load_training_data()"
   ]
  },
  {
   "cell_type": "code",
   "execution_count": 8,
   "metadata": {},
   "outputs": [
    {
     "data": {
      "text/plain": [
       "<matplotlib.image.AxesImage at 0x10efbdd68>"
      ]
     },
     "execution_count": 8,
     "metadata": {},
     "output_type": "execute_result"
    },
    {
     "data": {
      "image/png": "[encoded data removed]",
      "text/plain": [
       "<matplotlib.figure.Figure at 0x1c2b004668>"
      ]
     },
     "metadata": {},
     "output_type": "display_data"
    }
   ],
   "source": [
    "plt.imshow(train_data[200][0], cmap='gray', interpolation='nearest')"
   ]
  },
  {
   "cell_type": "code",
   "execution_count": 9,
   "metadata": {},
   "outputs": [],
   "source": [
    "trainImages = np.array([i[0] for i in train_data]).reshape(-1, IMG_SIZE, IMG_SIZE, 1)\n",
    "trainLabels = np.array([i[1] for i in train_data])\n",
    "del train_data"
   ]
  },
  {
   "cell_type": "code",
   "execution_count": 10,
   "metadata": {},
   "outputs": [
    {
     "name": "stderr",
     "output_type": "stream",
     "text": [
      "/anaconda3/lib/python3.6/site-packages/h5py/__init__.py:36: FutureWarning: Conversion of the second argument of issubdtype from `float` to `np.floating` is deprecated. In future, it will be treated as `np.float64 == np.dtype(float).type`.\n",
      "  from ._conv import register_converters as _register_converters\n",
      "Using TensorFlow backend.\n"
     ]
    }
   ],
   "source": [
    "import keras\n",
    "from keras.models import Sequential\n",
    "from keras.layers import Dense, Dropout, Flatten\n",
    "from keras.layers import Conv2D, MaxPooling2D\n",
    "from keras.layers. normalization import BatchNormalization"
   ]
  },
  {
   "cell_type": "code",
   "execution_count": 11,
   "metadata": {},
   "outputs": [],
   "source": [
    "model = Sequential()\n",
    "model.add(Conv2D(32, kernel_size = (3, 3), activation='relu', input_shape=(IMG_SIZE, IMG_SIZE, 1)))\n",
    "model.add(MaxPooling2D(pool_size=(2,2)))\n",
    "model.add(BatchNormalization())\n",
    "model.add(Conv2D(64, kernel_size=(3,3), activation='relu'))\n",
    "model.add(MaxPooling2D(pool_size=(2,2)))\n",
    "model.add(BatchNormalization())\n",
    "model.add(Conv2D(96, kernel_size=(3,3), activation='relu'))\n",
    "model.add(MaxPooling2D(pool_size=(2,2)))\n",
    "model.add(BatchNormalization())\n",
    "model.add(Conv2D(96, kernel_size=(3,3), activation='relu'))\n",
    "model.add(MaxPooling2D(pool_size=(2,2)))\n",
    "model.add(BatchNormalization())\n",
    "model.add(Conv2D(64, kernel_size=(3,3), activation='relu'))\n",
    "model.add(MaxPooling2D(pool_size=(2,2)))\n",
    "model.add(BatchNormalization())\n",
    "model.add(Dropout(0.2))\n",
    "model.add(Flatten())\n",
    "model.add(Dense(256, activation='relu'))\n",
    "model.add(Dropout(0.2))\n",
    "model.add(Dense(128, activation='relu'))\n",
    "model.add(Dense(3, activation = 'softmax'))"
   ]
  },
  {
   "cell_type": "code",
   "execution_count": 12,
   "metadata": {},
   "outputs": [],
   "source": [
    "model.compile(loss='categorical_crossentropy', optimizer='adam', metrics = ['accuracy'])"
   ]
  },
  {
   "cell_type": "code",
   "execution_count": 13,
   "metadata": {},
   "outputs": [
    {
     "name": "stdout",
     "output_type": "stream",
     "text": [
      "Epoch 1/5\n",
      "2451/2451 [==============================] - 348s 142ms/step - loss: 0.8136 - acc: 0.6932\n",
      "Epoch 2/5\n",
      "2451/2451 [==============================] - 349s 142ms/step - loss: 0.4883 - acc: 0.8250\n",
      "Epoch 3/5\n",
      "2451/2451 [==============================] - 342s 140ms/step - loss: 0.3420 - acc: 0.8747\n",
      "Epoch 4/5\n",
      "2451/2451 [==============================] - 342s 139ms/step - loss: 0.2560 - acc: 0.9045\n",
      "Epoch 5/5\n",
      "2451/2451 [==============================] - 345s 141ms/step - loss: 0.1549 - acc: 0.9421\n"
     ]
    },
    {
     "data": {
      "text/plain": [
       "<keras.callbacks.History at 0x1c18f25470>"
      ]
     },
     "execution_count": 13,
     "metadata": {},
     "output_type": "execute_result"
    }
   ],
   "source": [
    "model.fit(trainImages, trainLabels, batch_size = 10, epochs = 5, verbose = 1)"
   ]
  },
  {
   "cell_type": "code",
   "execution_count": null,
   "metadata": {},
   "outputs": [],
   "source": [
    "# Test on Test Set\n",
    "TEST_DIR = './test'\n",
    "def load_test_data(path):\n",
    "    return np.array(normalizeImage(path,IMG_SIZE,IMG_SIZE)).reshape(-1, IMG_SIZE, IMG_SIZE, 1)"
   ]
  },
  {
   "cell_type": "code",
   "execution_count": null,
   "metadata": {},
   "outputs": [],
   "source": [
    "ynew = model.predict_classes(load_test_data(\"/Users/jasonsolano/Downloads/motot.jpg\"))\n",
    "ynew"
   ]
  },
  {
   "cell_type": "code",
   "execution_count": null,
   "metadata": {},
   "outputs": [],
   "source": [
    "from PIL import Image\n",
    "from skimage import data\n",
    "from skimage.filters import threshold_otsu\n",
    "\n",
    "IMG_SIZE = 300\n",
    "camera = data.camera()\n",
    "img = Image.open(\"/Users/jasonsolano/Documents/TrainingImages/buses/coaster.jpeg\")\n",
    "img = img.resize((IMG_SIZE, IMG_SIZE))\n",
    "img  = np.asarray(img.convert('L'))\n",
    "# print(np.array(img))\n",
    "# camera = data.camera(np.array(img))\n",
    "Segmentation = filters.threshold_otsu(np.array(img))\n",
    "ax[2].imshow(Segmentation, cmap=plt.cm.gray)\n",
    "ax[2].set_title('Thresholded')\n",
    "ax[2].axis('off')"
   ]
  },
  {
   "cell_type": "code",
   "execution_count": 29,
   "metadata": {},
   "outputs": [],
   "source": [
    "DIR1 = \"/Users/jasonsolano/Documents/testCNN/cars/\"\n",
    "DIR2 = \"/Users/jasonsolano/Documents/testCNN/buses/\"\n",
    "DIR3 = \"/Users/jasonsolano/Documents/testCNN/motorcycles/\"\n",
    "paths = [DIR1,DIR2,DIR3]\n",
    "test_data = list()"
   ]
  },
  {
   "cell_type": "code",
   "execution_count": 30,
   "metadata": {},
   "outputs": [
    {
     "name": "stderr",
     "output_type": "stream",
     "text": [
      "/anaconda3/lib/python3.6/site-packages/PIL/Image.py:916: UserWarning: Palette images with Transparency   expressed in bytes should be converted to RGBA images\n",
      "  'to RGBA images')\n"
     ]
    }
   ],
   "source": [
    "IMG_SIZE = 300\n",
    "\n",
    "def load_test_data():\n",
    "    for tempPath in paths:\n",
    "        for img in os.listdir(tempPath): #list the images of directory\n",
    "            if('cars' in tempPath): #assigned labels\n",
    "                label = np.array([1,0,0])\n",
    "            elif('buses' in tempPath):\n",
    "                label = np.array([0,1,0])\n",
    "            else:\n",
    "                label = np.array([0,0,1])\n",
    "            path = os.path.join(tempPath, img)\n",
    "            if \"DS_Store\" not in path: #validate for Mac Os users\n",
    "                test_data.append([normalizeImage(path,IMG_SIZE,IMG_SIZE), label]) #normaliza data  \n",
    "    shuffle(test_data)\n",
    "    return test_data\n",
    "load_test_data()\n",
    "testImages = np.array([i[0] for i in test_data]).reshape(-1, IMG_SIZE, IMG_SIZE, 1)\n",
    "testLabels = np.array([i[1] for i in test_data])"
   ]
  },
  {
   "cell_type": "code",
   "execution_count": 31,
   "metadata": {},
   "outputs": [
    {
     "data": {
      "text/plain": [
       "100"
      ]
     },
     "execution_count": 31,
     "metadata": {},
     "output_type": "execute_result"
    }
   ],
   "source": [
    "len(testImages)"
   ]
  },
  {
   "cell_type": "code",
   "execution_count": 32,
   "metadata": {},
   "outputs": [
    {
     "name": "stdout",
     "output_type": "stream",
     "text": [
      "100/100 [==============================] - 8s 81ms/step\n",
      "82.0\n"
     ]
    }
   ],
   "source": [
    "loss, acc = model.evaluate(testImages, testLabels, verbose = 1)\n",
    "print(acc * 100)"
   ]
  },
  {
   "cell_type": "code",
   "execution_count": null,
   "metadata": {},
   "outputs": [],
   "source": [
    "# import matplotlib.pyplot as plt\n",
    "# from skimage import data\n",
    "# from skimage.filters import threshold_otsu\n",
    "# from skimage.filters import threshold_yen\n",
    "# from skimage.filters import try_all_threshold\n",
    "# IMG_SIZE = 300\n",
    "\n",
    "# img = Image.open(\"/Users/jasonsolano/Documents/TrainingImages/motorcycles/moto6.jpg\")\n",
    "# img = img.resize((IMG_SIZE, IMG_SIZE), Image.ANTIALIAS)\n",
    "\n",
    "# image = data.camera()\n",
    "# image  = np.asarray(img.convert('L'))\n",
    "# print(np.shape(image))\n",
    "# fig, ax = try_all_threshold(image, figsize=(10, 8), verbose=False)\n",
    "# val = threshold_otsu(np.array(image))\n",
    "# otsuApplied = np.array(image)>val\n",
    "\n",
    "# print(otsuApplied)\n",
    "# print(np.shape(otsuApplied.astype(int)))\n",
    "\n",
    "# plt.imshow(otsuApplied, cmap='gray', interpolation='nearest')\n",
    "\n",
    "# plt.show()\n",
    "\n",
    "\n",
    "def normalizeImages(imgdir,sizeRows,sizeColumns):\n",
    "    \n",
    "    img = Image.open(imgdir) # get image\n",
    "    img = img.resize((sizeRows,sizeColumns),Image.ANTIALIAS) # reshape the image size \n",
    "    \n",
    "    #draw image\n",
    "    plt.subplot(121)\n",
    "    plt.imshow(img, interpolation='nearest')\n",
    "    \n",
    "    \n",
    "    img  = np.asarray(img.convert('L')) # get the scalegray mask of image\n",
    "    \n",
    "    val = threshold_otsu(np.array(img)) # get the value of otsu method\n",
    "    \n",
    "    otsuApplied = np.array(img)>val # applied the threshold tehcnique\n",
    "    \n",
    "    #draw image\n",
    "    plt.subplot(122)\n",
    "    plt.imshow(otsuApplied, cmap='gray', interpolation='nearest')\n",
    "    plt.show()\n",
    "    \n",
    "    \n",
    "    \n",
    "    "
   ]
  },
  {
   "cell_type": "code",
   "execution_count": null,
   "metadata": {},
   "outputs": [],
   "source": [
    "normalizeImages(\"/Users/jasonsolano/Documents/TrainingImages/Sedan/sedan11.jpg\",300,300)"
   ]
  },
  {
   "cell_type": "code",
   "execution_count": null,
   "metadata": {},
   "outputs": [],
   "source": []
  }
 ],
 "metadata": {
  "kernelspec": {
   "display_name": "Python 3",
   "language": "python",
   "name": "python3"
  },
  "language_info": {
   "codemirror_mode": {
    "name": "ipython",
    "version": 3
   },
   "file_extension": ".py",
   "mimetype": "text/x-python",
   "name": "python",
   "nbconvert_exporter": "python",
   "pygments_lexer": "ipython3",
   "version": "3.6.4"
  }
 },
 "nbformat": 4,
 "nbformat_minor": 2
}
